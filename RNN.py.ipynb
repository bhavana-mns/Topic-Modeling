{
 "cells": [
  {
   "cell_type": "code",
   "execution_count": 1,
   "metadata": {},
   "outputs": [
    {
     "name": "stderr",
     "output_type": "stream",
     "text": [
      "Using TensorFlow backend.\n"
     ]
    }
   ],
   "source": [
    "import numpy\n",
    "from keras.datasets import imdb\n",
    "from keras.models import Sequential\n",
    "from keras.layers import Dense\n",
    "from keras.layers import LSTM\n",
    "from keras.layers.embeddings import Embedding\n",
    "from keras.preprocessing import sequence\n",
    "# fix random seed for reproducibility\n",
    "numpy.random.seed(7)"
   ]
  },
  {
   "cell_type": "code",
   "execution_count": 10,
   "metadata": {},
   "outputs": [
    {
     "name": "stdout",
     "output_type": "stream",
     "text": [
      "<type 'numpy.ndarray'>\n",
      "<type 'numpy.ndarray'>\n"
     ]
    }
   ],
   "source": [
    "import pandas as pd\n",
    "#import pandas\n",
    "from keras.models import Sequential\n",
    "from keras.layers import Dense\n",
    "from keras.wrappers.scikit_learn import KerasClassifier\n",
    "from keras.utils import np_utils\n",
    "from sklearn.model_selection import cross_val_score\n",
    "from sklearn.model_selection import KFold\n",
    "from sklearn.preprocessing import LabelEncoder\n",
    "from sklearn.pipeline import Pipeline\n",
    "data = pd.read_csv(\"/home/divya/SAP/data.csv\",header = 0)\n",
    "dataset = data.values\n",
    "Y=dataset[:,1]\n",
    "#Y.append(0)\n",
    "from numpy import array\n",
    "print(type(Y))\n",
    "Y=list(Y)\n",
    "Y.append(0)\n",
    "Y=array(Y)\n",
    "print(type(Y))"
   ]
  },
  {
   "cell_type": "code",
   "execution_count": 31,
   "metadata": {},
   "outputs": [],
   "source": [
    "from keras.preprocessing.text import one_hot\n",
    "from keras.preprocessing.text import text_to_word_sequence\n",
    "# define the document\n",
    "x=[]\n",
    "for i in range(10):\n",
    "    result=[]\n",
    "    text=str(dataset[:i][:,0])\n",
    "    result = one_hot(text, round(100*1.3))\n",
    "    x.append(result)\n",
    "    \n",
    "x=array(x)"
   ]
  },
  {
   "cell_type": "code",
   "execution_count": 32,
   "metadata": {},
   "outputs": [],
   "source": [
    "max_review_length = 100\n",
    "x = sequence.pad_sequences(x, maxlen=max_review_length)\n",
    "xt = sequence.pad_sequences(x, maxlen=max_review_length)"
   ]
  },
  {
   "cell_type": "code",
   "execution_count": 35,
   "metadata": {},
   "outputs": [
    {
     "name": "stdout",
     "output_type": "stream",
     "text": [
      "_________________________________________________________________\n",
      "Layer (type)                 Output Shape              Param #   \n",
      "=================================================================\n",
      "embedding_5 (Embedding)      (None, 100, 32)           6400      \n",
      "_________________________________________________________________\n",
      "lstm_5 (LSTM)                (None, 100)               53200     \n",
      "_________________________________________________________________\n",
      "dense_5 (Dense)              (None, 4)                 404       \n",
      "=================================================================\n",
      "Total params: 60,004\n",
      "Trainable params: 60,004\n",
      "Non-trainable params: 0\n",
      "_________________________________________________________________\n",
      "None\n"
     ]
    }
   ],
   "source": [
    "embedding_vecor_length = 32\n",
    "model = Sequential()\n",
    "model.add(Embedding(200, embedding_vecor_length, input_length=100))\n",
    "model.add(LSTM(100))\n",
    "model.add(Dense(4, activation='softmax'))\n",
    "model.compile(loss='categorical_crossentropy', optimizer='adam', metrics=['accuracy'])\n",
    "print(model.summary())"
   ]
  },
  {
   "cell_type": "code",
   "execution_count": 36,
   "metadata": {},
   "outputs": [
    {
     "name": "stdout",
     "output_type": "stream",
     "text": [
      "Epoch 1/100\n",
      "10/10 [==============================] - 3s 300ms/step - loss: 1.3857 - acc: 0.3000\n",
      "Epoch 2/100\n",
      "10/10 [==============================] - 0s 47ms/step - loss: 1.3807 - acc: 0.3000\n",
      "Epoch 3/100\n",
      "10/10 [==============================] - 0s 41ms/step - loss: 1.3756 - acc: 0.6000\n",
      "Epoch 4/100\n",
      "10/10 [==============================] - 0s 38ms/step - loss: 1.3704 - acc: 0.6000\n",
      "Epoch 5/100\n",
      "10/10 [==============================] - 0s 47ms/step - loss: 1.3647 - acc: 0.6000\n",
      "Epoch 6/100\n",
      "10/10 [==============================] - 0s 40ms/step - loss: 1.3585 - acc: 0.6000\n",
      "Epoch 7/100\n",
      "10/10 [==============================] - 0s 38ms/step - loss: 1.3515 - acc: 0.6000\n",
      "Epoch 8/100\n",
      "10/10 [==============================] - 0s 34ms/step - loss: 1.3435 - acc: 0.6000\n",
      "Epoch 9/100\n",
      "10/10 [==============================] - 0s 36ms/step - loss: 1.3341 - acc: 0.5000\n",
      "Epoch 10/100\n",
      "10/10 [==============================] - 0s 41ms/step - loss: 1.3230 - acc: 0.5000\n",
      "Epoch 11/100\n",
      "10/10 [==============================] - 0s 40ms/step - loss: 1.3094 - acc: 0.4000\n",
      "Epoch 12/100\n",
      "10/10 [==============================] - 0s 38ms/step - loss: 1.2924 - acc: 0.4000\n",
      "Epoch 13/100\n",
      "10/10 [==============================] - 0s 38ms/step - loss: 1.2705 - acc: 0.5000\n",
      "Epoch 14/100\n",
      "10/10 [==============================] - 0s 34ms/step - loss: 1.2419 - acc: 0.5000\n",
      "Epoch 15/100\n",
      "10/10 [==============================] - 0s 30ms/step - loss: 1.2112 - acc: 0.5000\n",
      "Epoch 16/100\n",
      "10/10 [==============================] - 1s 63ms/step - loss: 1.2205 - acc: 0.4000\n",
      "Epoch 17/100\n",
      "10/10 [==============================] - 1s 51ms/step - loss: 1.1685 - acc: 0.4000\n",
      "Epoch 18/100\n",
      "10/10 [==============================] - 0s 48ms/step - loss: 1.1367 - acc: 0.4000\n",
      "Epoch 19/100\n",
      "10/10 [==============================] - 1s 51ms/step - loss: 1.1150 - acc: 0.4000\n",
      "Epoch 20/100\n",
      "10/10 [==============================] - 0s 34ms/step - loss: 1.0895 - acc: 0.4000\n",
      "Epoch 21/100\n",
      "10/10 [==============================] - 0s 38ms/step - loss: 1.0561 - acc: 0.5000\n",
      "Epoch 22/100\n",
      "10/10 [==============================] - 0s 33ms/step - loss: 1.0077 - acc: 0.6000\n",
      "Epoch 23/100\n",
      "10/10 [==============================] - 0s 35ms/step - loss: 0.9296 - acc: 0.5000\n",
      "Epoch 24/100\n",
      "10/10 [==============================] - 0s 34ms/step - loss: 0.8675 - acc: 0.5000\n",
      "Epoch 25/100\n",
      "10/10 [==============================] - 0s 32ms/step - loss: 0.8440 - acc: 0.5000\n",
      "Epoch 26/100\n",
      "10/10 [==============================] - 0s 34ms/step - loss: 0.9024 - acc: 0.5000\n",
      "Epoch 27/100\n",
      "10/10 [==============================] - 0s 34ms/step - loss: 0.8814 - acc: 0.5000\n",
      "Epoch 28/100\n",
      "10/10 [==============================] - 0s 35ms/step - loss: 0.8041 - acc: 0.5000\n",
      "Epoch 29/100\n",
      "10/10 [==============================] - 0s 32ms/step - loss: 0.7443 - acc: 0.7000\n",
      "Epoch 30/100\n",
      "10/10 [==============================] - 0s 33ms/step - loss: 0.7380 - acc: 0.9000\n",
      "Epoch 31/100\n",
      "10/10 [==============================] - 0s 35ms/step - loss: 0.7422 - acc: 0.8000\n",
      "Epoch 32/100\n",
      "10/10 [==============================] - 0s 31ms/step - loss: 0.7242 - acc: 0.8000\n",
      "Epoch 33/100\n",
      "10/10 [==============================] - 0s 34ms/step - loss: 0.6864 - acc: 0.8000\n",
      "Epoch 34/100\n",
      "10/10 [==============================] - 0s 38ms/step - loss: 0.6423 - acc: 0.8000\n",
      "Epoch 35/100\n",
      "10/10 [==============================] - 0s 34ms/step - loss: 0.6037 - acc: 0.7000\n",
      "Epoch 36/100\n",
      "10/10 [==============================] - 0s 35ms/step - loss: 0.5804 - acc: 0.6000\n",
      "Epoch 37/100\n",
      "10/10 [==============================] - 0s 50ms/step - loss: 0.5740 - acc: 0.6000\n",
      "Epoch 38/100\n",
      "10/10 [==============================] - 1s 62ms/step - loss: 0.5759 - acc: 0.7000\n",
      "Epoch 39/100\n",
      "10/10 [==============================] - 0s 45ms/step - loss: 0.5716 - acc: 0.7000\n",
      "Epoch 40/100\n",
      "10/10 [==============================] - 0s 34ms/step - loss: 0.5552 - acc: 0.7000\n",
      "Epoch 41/100\n",
      "10/10 [==============================] - 1s 57ms/step - loss: 0.5348 - acc: 0.7000\n",
      "Epoch 42/100\n",
      "10/10 [==============================] - 1s 60ms/step - loss: 0.5202 - acc: 0.8000\n",
      "Epoch 43/100\n",
      "10/10 [==============================] - 1s 56ms/step - loss: 0.5134 - acc: 0.9000\n",
      "Epoch 44/100\n",
      "10/10 [==============================] - 0s 37ms/step - loss: 0.5081 - acc: 0.9000\n",
      "Epoch 45/100\n",
      "10/10 [==============================] - 0s 39ms/step - loss: 0.4977 - acc: 0.9000\n",
      "Epoch 46/100\n",
      "10/10 [==============================] - 0s 46ms/step - loss: 0.4792 - acc: 0.9000\n",
      "Epoch 47/100\n",
      "10/10 [==============================] - 0s 41ms/step - loss: 0.4548 - acc: 0.9000\n",
      "Epoch 48/100\n",
      "10/10 [==============================] - 0s 34ms/step - loss: 0.4322 - acc: 0.9000\n",
      "Epoch 49/100\n",
      "10/10 [==============================] - 0s 34ms/step - loss: 0.4196 - acc: 0.8000\n",
      "Epoch 50/100\n",
      "10/10 [==============================] - 0s 37ms/step - loss: 0.4037 - acc: 0.8000\n",
      "Epoch 51/100\n",
      "10/10 [==============================] - 0s 35ms/step - loss: 0.3699 - acc: 0.9000\n",
      "Epoch 52/100\n",
      "10/10 [==============================] - 0s 38ms/step - loss: 0.3450 - acc: 0.9000\n",
      "Epoch 53/100\n",
      "10/10 [==============================] - 0s 35ms/step - loss: 0.3284 - acc: 1.0000\n",
      "Epoch 54/100\n",
      "10/10 [==============================] - 0s 35ms/step - loss: 0.2972 - acc: 1.0000\n",
      "Epoch 55/100\n",
      "10/10 [==============================] - 0s 32ms/step - loss: 0.2547 - acc: 1.0000\n",
      "Epoch 56/100\n",
      "10/10 [==============================] - 0s 22ms/step - loss: 0.2517 - acc: 1.0000\n",
      "Epoch 57/100\n",
      "10/10 [==============================] - 0s 33ms/step - loss: 0.2162 - acc: 1.0000\n",
      "Epoch 58/100\n",
      "10/10 [==============================] - 0s 25ms/step - loss: 0.2214 - acc: 1.0000\n",
      "Epoch 59/100\n",
      "10/10 [==============================] - 0s 32ms/step - loss: 0.1940 - acc: 1.0000\n",
      "Epoch 60/100\n",
      "10/10 [==============================] - 0s 29ms/step - loss: 0.1544 - acc: 1.0000\n",
      "Epoch 61/100\n",
      "10/10 [==============================] - 0s 22ms/step - loss: 0.1561 - acc: 1.0000\n",
      "Epoch 62/100\n",
      "10/10 [==============================] - 0s 35ms/step - loss: 0.1641 - acc: 1.0000\n",
      "Epoch 63/100\n",
      "10/10 [==============================] - 0s 21ms/step - loss: 0.1636 - acc: 1.0000\n",
      "Epoch 64/100\n",
      "10/10 [==============================] - 0s 34ms/step - loss: 0.1100 - acc: 1.0000\n",
      "Epoch 65/100\n",
      "10/10 [==============================] - 0s 23ms/step - loss: 0.1254 - acc: 1.0000\n",
      "Epoch 66/100\n",
      "10/10 [==============================] - 0s 36ms/step - loss: 0.4264 - acc: 0.8000\n",
      "Epoch 67/100\n",
      "10/10 [==============================] - 0s 30ms/step - loss: 0.0959 - acc: 1.0000\n",
      "Epoch 68/100\n",
      "10/10 [==============================] - 0s 21ms/step - loss: 0.2767 - acc: 0.9000\n",
      "Epoch 69/100\n",
      "10/10 [==============================] - 0s 33ms/step - loss: 1.3478 - acc: 0.6000\n",
      "Epoch 70/100\n",
      "10/10 [==============================] - 0s 22ms/step - loss: 0.3569 - acc: 0.8000\n",
      "Epoch 71/100\n",
      "10/10 [==============================] - 0s 32ms/step - loss: 0.3622 - acc: 0.8000\n",
      "Epoch 72/100\n",
      "10/10 [==============================] - 0s 22ms/step - loss: 0.3673 - acc: 0.8000\n",
      "Epoch 73/100\n",
      "10/10 [==============================] - 0s 33ms/step - loss: 0.4312 - acc: 0.9000\n",
      "Epoch 74/100\n",
      "10/10 [==============================] - 0s 21ms/step - loss: 0.5098 - acc: 0.9000\n",
      "Epoch 75/100\n",
      "10/10 [==============================] - 0s 34ms/step - loss: 0.5352 - acc: 1.0000\n",
      "Epoch 76/100\n",
      "10/10 [==============================] - 0s 24ms/step - loss: 0.5613 - acc: 0.9000\n",
      "Epoch 77/100\n",
      "10/10 [==============================] - 0s 32ms/step - loss: 0.5793 - acc: 0.9000\n",
      "Epoch 78/100\n",
      "10/10 [==============================] - 0s 37ms/step - loss: 0.5822 - acc: 0.9000\n",
      "Epoch 79/100\n",
      "10/10 [==============================] - 0s 36ms/step - loss: 0.5703 - acc: 0.9000\n",
      "Epoch 80/100\n",
      "10/10 [==============================] - 0s 24ms/step - loss: 0.5469 - acc: 0.9000\n",
      "Epoch 81/100\n",
      "10/10 [==============================] - 0s 40ms/step - loss: 0.5145 - acc: 0.9000\n",
      "Epoch 82/100\n",
      "10/10 [==============================] - 1s 61ms/step - loss: 0.4755 - acc: 0.9000\n",
      "Epoch 83/100\n",
      "10/10 [==============================] - 1s 50ms/step - loss: 0.4327 - acc: 1.0000\n",
      "Epoch 84/100\n",
      "10/10 [==============================] - 0s 37ms/step - loss: 0.3911 - acc: 1.0000\n",
      "Epoch 85/100\n",
      "10/10 [==============================] - 0s 26ms/step - loss: 0.3572 - acc: 1.0000\n",
      "Epoch 86/100\n",
      "10/10 [==============================] - 0s 50ms/step - loss: 0.3352 - acc: 1.0000\n"
     ]
    },
    {
     "name": "stdout",
     "output_type": "stream",
     "text": [
      "Epoch 87/100\n",
      "10/10 [==============================] - 0s 32ms/step - loss: 0.3220 - acc: 0.9000\n",
      "Epoch 88/100\n",
      "10/10 [==============================] - 0s 41ms/step - loss: 0.3063 - acc: 0.9000\n",
      "Epoch 89/100\n",
      "10/10 [==============================] - 0s 37ms/step - loss: 0.2822 - acc: 0.9000\n",
      "Epoch 90/100\n",
      "10/10 [==============================] - 0s 30ms/step - loss: 0.2550 - acc: 1.0000\n",
      "Epoch 91/100\n",
      "10/10 [==============================] - 0s 47ms/step - loss: 0.2308 - acc: 1.0000\n",
      "Epoch 92/100\n",
      "10/10 [==============================] - 0s 28ms/step - loss: 0.2117 - acc: 1.0000\n",
      "Epoch 93/100\n",
      "10/10 [==============================] - 0s 48ms/step - loss: 0.1973 - acc: 1.0000\n",
      "Epoch 94/100\n",
      "10/10 [==============================] - 0s 30ms/step - loss: 0.1861 - acc: 1.0000\n",
      "Epoch 95/100\n",
      "10/10 [==============================] - 0s 45ms/step - loss: 0.1768 - acc: 1.0000\n",
      "Epoch 96/100\n",
      "10/10 [==============================] - 1s 59ms/step - loss: 0.1684 - acc: 1.0000\n",
      "Epoch 97/100\n",
      "10/10 [==============================] - 0s 48ms/step - loss: 0.1601 - acc: 1.0000\n",
      "Epoch 98/100\n",
      "10/10 [==============================] - 0s 26ms/step - loss: 0.1513 - acc: 1.0000\n",
      "Epoch 99/100\n",
      "10/10 [==============================] - 0s 46ms/step - loss: 0.1420 - acc: 1.0000\n",
      "Epoch 100/100\n",
      "10/10 [==============================] - 1s 59ms/step - loss: 0.1322 - acc: 1.0000\n"
     ]
    },
    {
     "data": {
      "text/plain": [
       "<keras.callbacks.History at 0x7f1184a08a90>"
      ]
     },
     "execution_count": 36,
     "metadata": {},
     "output_type": "execute_result"
    }
   ],
   "source": [
    "#from keras.utils import to_categorical\n",
    "#y_train = to_categorical(X_train)\n",
    "#x[0]={34,22}\n",
    "#Y[]=1\n",
    "#print(len(x))\n",
    "dummy_y = np_utils.to_categorical(Y)\n",
    "#print (len(Y))\n",
    "model.fit(x, dummy_y, epochs=100, batch_size=25)"
   ]
  },
  {
   "cell_type": "code",
   "execution_count": 15,
   "metadata": {},
   "outputs": [
    {
     "name": "stdout",
     "output_type": "stream",
     "text": [
      "Accuracy: 100.00%\n"
     ]
    }
   ],
   "source": [
    "scores = model.evaluate(x, dummy_y, verbose=0)\n",
    "print(\"Accuracy: %.2f%%\" % (scores[1]*100))"
   ]
  },
  {
   "cell_type": "code",
   "execution_count": 37,
   "metadata": {},
   "outputs": [
    {
     "name": "stdout",
     "output_type": "stream",
     "text": [
      "Fantasy\n",
      "Fantasy\n",
      "Depression\n",
      "Fantasy\n",
      "Fantasy\n",
      "politics\n",
      "politics\n",
      "politics\n",
      "Fantasy\n",
      "politics\n"
     ]
    }
   ],
   "source": [
    "\n",
    "pred=model.predict(x,batch_size=64)\n",
    "max1=0\n",
    "for i in range(10):\n",
    "    for j in range(3):\n",
    "        if(pred[i][j]>pred[i][j+1]):\n",
    "            max1=j\n",
    "   # print(max1)\n",
    "    if(max1==0):\n",
    "        print(\"politics\")\n",
    "    if(max1==1):\n",
    "        print(\"Depression\")\n",
    "    if(max1==2):\n",
    "        print(\"Fantasy\")\n",
    "    if(max1==3):\n",
    "        print(\"science and technology\")"
   ]
  },
  {
   "cell_type": "code",
   "execution_count": 38,
   "metadata": {},
   "outputs": [],
   "source": [
    "file = open(\"/home/divya/SAP/hrcoo.txt\",\"r\")\n",
    "text = file.read()"
   ]
  },
  {
   "cell_type": "code",
   "execution_count": 39,
   "metadata": {},
   "outputs": [],
   "source": [
    "x=[]\n",
    "for i in range(10):\n",
    "    result=[]\n",
    "    text=str(text)\n",
    "    result = one_hot(text, round(100*1.3))\n",
    "    x.append(result)\n",
    "    \n",
    "x=array(x)\n",
    "max_review_length = 100\n",
    "x = sequence.pad_sequences(x, maxlen=max_review_length)"
   ]
  },
  {
   "cell_type": "code",
   "execution_count": 47,
   "metadata": {},
   "outputs": [
    {
     "name": "stdout",
     "output_type": "stream",
     "text": [
      "73\n"
     ]
    }
   ],
   "source": [
    "print(x[1][0])\n"
   ]
  },
  {
   "cell_type": "code",
   "execution_count": 48,
   "metadata": {},
   "outputs": [],
   "source": [
    "pred=model.predict(x,batch_size=64)"
   ]
  },
  {
   "cell_type": "code",
   "execution_count": 42,
   "metadata": {},
   "outputs": [
    {
     "name": "stdout",
     "output_type": "stream",
     "text": [
      "[[0.45320323 0.03652369 0.07692453 0.4333485 ]\n",
      " [0.45320323 0.03652369 0.07692453 0.4333485 ]\n",
      " [0.45320323 0.03652369 0.07692453 0.4333485 ]\n",
      " [0.45320323 0.03652369 0.07692453 0.4333485 ]\n",
      " [0.45320323 0.03652369 0.07692453 0.4333485 ]\n",
      " [0.45320323 0.03652369 0.07692453 0.4333485 ]\n",
      " [0.45320323 0.03652369 0.07692453 0.4333485 ]\n",
      " [0.45320323 0.03652369 0.07692453 0.4333485 ]\n",
      " [0.4532033  0.0365237  0.07692452 0.43334857]\n",
      " [0.4532033  0.0365237  0.07692452 0.43334857]]\n"
     ]
    }
   ],
   "source": [
    "print(pred)"
   ]
  },
  {
   "cell_type": "code",
   "execution_count": 50,
   "metadata": {},
   "outputs": [
    {
     "name": "stdout",
     "output_type": "stream",
     "text": [
      "Top 1\n"
     ]
    }
   ],
   "source": [
    "pred=model.predict(x,batch_size=64)\n",
    "max1=0\n",
    "for i in range(10):\n",
    "    for j in range(3):\n",
    "        if(pred[i][j]>pred[i][j+1]):\n",
    "            max1=j\n",
    "   # print(max1)\n",
    "    if(max1==0):\n",
    "        print(\"Top 1\")\n",
    "        break\n",
    "    if(max1==1):\n",
    "        print(\"Top 2\")\n",
    "        break\n",
    "    if(max1==2):\n",
    "        print(\"Top 3\")\n",
    "        break\n",
    "    if(max1==3):\n",
    "        print(\"Top 4\")\n",
    "        break\n",
    "        "
   ]
  },
  {
   "cell_type": "code",
   "execution_count": null,
   "metadata": {},
   "outputs": [],
   "source": []
  }
 ],
 "metadata": {
  "kernelspec": {
   "display_name": "Python 2",
   "language": "python",
   "name": "python2"
  },
  "language_info": {
   "codemirror_mode": {
    "name": "ipython",
    "version": 2
   },
   "file_extension": ".py",
   "mimetype": "text/x-python",
   "name": "python",
   "nbconvert_exporter": "python",
   "pygments_lexer": "ipython2",
   "version": "2.7.12"
  }
 },
 "nbformat": 4,
 "nbformat_minor": 2
}
